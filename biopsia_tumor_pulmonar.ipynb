{
  "cells": [
    {
      "cell_type": "markdown",
      "metadata": {
        "id": "TWZgol8BGeIU"
      },
      "source": [
        "# 0. Configuração de Ambiente **padrão**"
      ]
    },
    {
      "cell_type": "markdown",
      "metadata": {
        "id": "8cV-c6m35jtv"
      },
      "source": [
        "###Copiar e colar os arquivos salvos na nuvem para esse ambiente de trabalho"
      ]
    },
    {
      "cell_type": "code",
      "execution_count": null,
      "metadata": {
        "id": "MjBPPUcZ3xYO"
      },
      "outputs": [],
      "source": [
        "from google.colab import drive\n",
        "drive.mount('/content/drive')"
      ]
    },
    {
      "cell_type": "code",
      "execution_count": null,
      "metadata": {
        "id": "YLPJHpkVzp6V"
      },
      "outputs": [],
      "source": [
        "%%bash\n",
        "# Copiando e colando os arquivos da análise do Google Drive para esse ambiente de trabalho.\n",
        "  # A barra invertida (\\) ignora espaços no diretório, e o ponto (.) traz para o ambiente de trabalho atual.\n",
        "cp /content/drive/MyDrive/Colab\\ Notebooks/einstein_colabs/optativa_bioinfo/atividade_complementar/Chr7-reference.fasta.gz .\n",
        "cp /content/drive/MyDrive/Colab\\ Notebooks/einstein_colabs/optativa_bioinfo/atividade_complementar/caso3-tumor-pulmonar_R1.fastq.gz .\n",
        "cp /content/drive/MyDrive/Colab\\ Notebooks/einstein_colabs/optativa_bioinfo/atividade_complementar/caso3-tumor-pulmonar_R2.fastq.gz ."
      ]
    },
    {
      "cell_type": "code",
      "execution_count": null,
      "metadata": {
        "collapsed": true,
        "id": "7AAbue9bEe0m"
      },
      "outputs": [],
      "source": [
        "%%bash\n",
        "wget --quiet https://github.com/conda-forge/miniforge/releases/latest/download/Miniforge3-Linux-x86_64.sh\n",
        "bash Miniforge3-Linux-x86_64.sh -b -p /usr/local -u\n",
        "mamba init\n",
        "mamba config set auto_activate_base true\n",
        "mamba shell init --shell bash --root-prefix=~/.local/share/mamba\n",
        "rm Miniforge3-Linux-x86_64.sh"
      ]
    },
    {
      "cell_type": "code",
      "execution_count": null,
      "metadata": {
        "collapsed": true,
        "id": "6o9JEhp6F0JD"
      },
      "outputs": [],
      "source": [
        "%%bash\n",
        "# Instalação das bibliotecas necessárias\n",
        "mamba install -c bioconda -c conda-forge fastqc bwa gatk4 cutadapt samtools bedtools ensembl-vep=115 -y"
      ]
    },
    {
      "cell_type": "code",
      "execution_count": null,
      "metadata": {
        "id": "XuQiIitLbJ5m"
      },
      "outputs": [],
      "source": [
        "%%bash\n",
        "# Testando instalação de um deles\n",
        "vep --help"
      ]
    },
    {
      "cell_type": "code",
      "execution_count": null,
      "metadata": {
        "id": "t9MWHnkWgwWz"
      },
      "outputs": [],
      "source": [
        "%%bash\n",
        "# Organizando as pastas\n",
        "mkdir -p raw fastqc cutadapt bwa gatk mutect vep reference"
      ]
    },
    {
      "cell_type": "code",
      "execution_count": null,
      "metadata": {
        "id": "vyehK-nWQnQB"
      },
      "outputs": [],
      "source": [
        "%%bash\n",
        "# Mover arquivos para as suas respectivas pastas e descompactar fasta.gz\n",
        "mv *.fastq.gz raw/\n",
        "gunzip -c Chr7-reference.fasta.gz > reference/Chr7-reference.fasta\n",
        "rm -rf Chr7-reference.fasta.gz sample_data/"
      ]
    },
    {
      "cell_type": "markdown",
      "metadata": {
        "id": "HbFjonTRGvxV"
      },
      "source": [
        "# 1. Controle de Qualidade"
      ]
    },
    {
      "cell_type": "code",
      "execution_count": null,
      "metadata": {
        "id": "bwZ6imuMZesX"
      },
      "outputs": [],
      "source": [
        "%%bash\n",
        "# Gerar o relatório da qualidade dos reads de sequenciamento\n",
        "fastqc -o fastqc/ raw/caso3-tumor-pulmonar_R1.fastq.gz raw/caso3-tumor-pulmonar_R2.fastq.gz"
      ]
    },
    {
      "cell_type": "code",
      "execution_count": null,
      "metadata": {
        "id": "t_JPX-mNF0AS"
      },
      "outputs": [],
      "source": [
        "%%bash\n",
        "# Filtrar sequências muito pequenas e cortar as pontas\n",
        "cutadapt \\\n",
        "  -u 5 -U 5 \\\n",
        "  -u -5 -U -5 \\\n",
        "  -m 90 \\\n",
        "  -o cutadapt/caso3-tumor-pulmonar-trimmed_R1.fastq.gz \\\n",
        "  -p cutadapt/caso3-tumor-pulmonar-trimmed_R2.fastq.gz \\\n",
        "  raw/caso3-tumor-pulmonar_R1.fastq.gz \\\n",
        "  raw/caso3-tumor-pulmonar_R2.fastq.gz"
      ]
    },
    {
      "cell_type": "markdown",
      "metadata": {
        "id": "JU46HSfKCDvs"
      },
      "source": [
        "# 2. Mapeamento com a referência do genoma humano"
      ]
    },
    {
      "cell_type": "code",
      "execution_count": null,
      "metadata": {
        "id": "MOMvG9EzCgkW"
      },
      "outputs": [],
      "source": [
        "%%bash\n",
        "# Indexar o genoma humano de referência para realizar o mapeamento e posterior remoção de contaminante\n",
        "samtools faidx reference/Chr7-reference.fasta\n",
        "bwa index reference/Chr7-reference.fasta"
      ]
    },
    {
      "cell_type": "code",
      "execution_count": null,
      "metadata": {
        "id": "hvDSuj7PEK6c"
      },
      "outputs": [],
      "source": [
        "%%bash\n",
        "# Alinhamento contra o genoma humano\n",
        "bwa mem reference/Chr7-reference.fasta \\\n",
        "  -R '@RG\\tID:sample1\\tSM:sample1\\tPL:ILLUMINA\\tLB:lib1\\tPU:unit1' \\\n",
        "  cutadapt/caso3-tumor-pulmonar-trimmed_R1.fastq.gz \\\n",
        "  cutadapt/caso3-tumor-pulmonar-trimmed_R2.fastq.gz \\\n",
        "  | samtools sort -o bwa/caso3-tumor-pulmonar-mapped.bam"
      ]
    },
    {
      "cell_type": "code",
      "execution_count": null,
      "metadata": {
        "id": "rjSUyNMaKUQO"
      },
      "outputs": [],
      "source": [
        "%%bash\n",
        "# Indexar o bam para gerar o bai e visualizar no IGV\n",
        "samtools index bwa/caso3-tumor-pulmonar-mapped.bam"
      ]
    },
    {
      "cell_type": "markdown",
      "metadata": {
        "id": "zt9sUj2ZxMNx"
      },
      "source": [
        "#3. Chamada de Variantes"
      ]
    },
    {
      "cell_type": "code",
      "execution_count": null,
      "metadata": {
        "id": "s5Qq7DWx-uUO"
      },
      "outputs": [],
      "source": [
        "%%bash\n",
        "# Indexar a referência e BAM para chamada de variantes com GATK\n",
        "samtools dict reference/Chr7-reference.fasta > reference/Chr7-reference.dict\n",
        "samtools index bwa/caso3-tumor-pulmonar-mapped.bam"
      ]
    },
    {
      "cell_type": "code",
      "execution_count": null,
      "metadata": {
        "id": "6R5-xndf8M9S"
      },
      "outputs": [],
      "source": [
        "%%bash\n",
        "# Chamada de variantes com mutect2\n",
        " gatk Mutect2 -R reference/Chr7-reference.fasta \\\n",
        "    -I bwa/caso3-tumor-pulmonar-mapped.bam \\\n",
        "    -O mutect/caso3-tumor-pulmonar-unfiltered.vcf"
      ]
    },
    {
      "cell_type": "code",
      "execution_count": null,
      "metadata": {
        "id": "lSlz8xZW_JTx"
      },
      "outputs": [],
      "source": [
        "%%bash\n",
        "# Filtragem de variantes\n",
        "gatk FilterMutectCalls \\\n",
        "    -R reference/Chr7-reference.fasta \\\n",
        "    -V mutect/caso3-tumor-pulmonar-unfiltered.vcf \\\n",
        "    -O mutect/caso3-tumor-pulmonar-filtered.vcf"
      ]
    },
    {
      "cell_type": "markdown",
      "source": [
        "# 4. Anotação de Variantes"
      ],
      "metadata": {
        "id": "7y2nvBXX8mhL"
      }
    },
    {
      "cell_type": "code",
      "source": [
        "%%bash\n",
        "# Script oficial baixa cache do genoma humano (grande volume de dados)\n",
        "vep_install -a cf -s homo_sapiens -y GRCh38 --NO_UPDATE"
      ],
      "metadata": {
        "id": "bfXldub7TADL"
      },
      "execution_count": null,
      "outputs": []
    },
    {
      "cell_type": "code",
      "source": [
        "%%bash\n",
        "# Index VCF files para anotação\n",
        "bgzip mutect/caso3-tumor-pulmonar-filtered.vcf\n",
        "tabix -f -p vcf mutect/caso3-tumor-pulmonar-filtered.vcf.gz\n"
      ],
      "metadata": {
        "id": "bvfu-FJiUohO"
      },
      "execution_count": null,
      "outputs": []
    },
    {
      "cell_type": "code",
      "source": [
        "%%bash\n",
        "# Anotação de variantes a nível de proteína\n",
        "vep -i mutect/caso3-tumor-pulmonar-filtered.vcf.gz \\\n",
        "    --output_file vep/caso3-tumor-pulmonar-filtered.vep.tsv \\\n",
        "    --tab --force_overwrite \\\n",
        "    --offline --cache --dir_cache ~/.vep \\\n",
        "    --assembly GRCh38 \\\n",
        "    --symbol --hgvs --canonical --af_1kg --max_af \\\n",
        "    --everything --pick\\\n",
        "    --stats_file vep/caso3-tumor-pulmonar-filtered.vep.html\n"
      ],
      "metadata": {
        "id": "ZoUmcPRPxQ0Y"
      },
      "execution_count": null,
      "outputs": []
    }
  ],
  "metadata": {
    "colab": {
      "provenance": []
    },
    "kernelspec": {
      "display_name": "Python 3",
      "name": "python3"
    },
    "language_info": {
      "name": "python"
    }
  },
  "nbformat": 4,
  "nbformat_minor": 0
}